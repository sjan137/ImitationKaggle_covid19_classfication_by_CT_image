{
 "cells": [
  {
   "cell_type": "markdown",
   "id": "00e0063a-7f1b-46b4-8f70-fc244170b97d",
   "metadata": {},
   "source": [
    "# Import Libraries"
   ]
  },
  {
   "cell_type": "code",
   "execution_count": 1,
   "id": "ee3f1d2e-3b43-4ba5-84c9-b54eb94e0814",
   "metadata": {},
   "outputs": [],
   "source": [
    "import os, torch, copy, cv2, sys, random\n",
    "# from datetime import datetime, timezone, timedelta\n",
    "import wandb\n",
    "\n",
    "from PIL import Image\n",
    "import numpy as np\n",
    "import pandas as pd\n",
    "from tqdm import tqdm\n",
    "import torch\n",
    "import torch.nn as nn\n",
    "import torch.optim as optim\n",
    "from torch.utils.data import DataLoader, Dataset\n",
    "import torchvision.transforms as transforms\n",
    "\n",
    "import torchvision.models as models\n",
    "\n",
    "\n",
    "import albumentations as A\n",
    "from albumentations.pytorch import ToTensorV2"
   ]
  },
  {
   "cell_type": "markdown",
   "id": "87b8240a-7b1f-4191-be62-5adfbd46a0f7",
   "metadata": {},
   "source": [
    "# Set Arguments & hyperparameters"
   ]
  },
  {
   "cell_type": "code",
   "execution_count": 2,
   "id": "7d43176f-da16-41a0-8af0-860afe714435",
   "metadata": {},
   "outputs": [],
   "source": [
    "RANDOM_SEED = 1994\n",
    "\n",
    "torch.manual_seed(RANDOM_SEED)\n",
    "torch.backends.cudnn.deterministic = True\n",
    "torch.backends.cudnn.benchmark = False\n",
    "np.random.seed(RANDOM_SEED)\n",
    "random.seed(RANDOM_SEED)"
   ]
  },
  {
   "cell_type": "code",
   "execution_count": 3,
   "id": "92fad9f5-d422-4ef7-bb1f-003958a256c3",
   "metadata": {},
   "outputs": [
    {
     "name": "stdout",
     "output_type": "stream",
     "text": [
      "현재 DEVICE : cuda\n"
     ]
    }
   ],
   "source": [
    "DATA_DIR = '../data'\n",
    "NUM_CLS = 2\n",
    "\n",
    "os.environ['CUDA_VISIBLE_DEVICES'] = \"0\"\n",
    "\n",
    "DEVICE = torch.device('cuda' if torch.cuda.is_available() else 'cpu')\n",
    "print(f'현재 DEVICE : {DEVICE}')"
   ]
  },
  {
   "cell_type": "markdown",
   "id": "48382dc0-9187-40af-8cb7-6cc1a7b90fe3",
   "metadata": {},
   "source": [
    "# Dataloader"
   ]
  },
  {
   "cell_type": "code",
   "execution_count": 4,
   "id": "06aab31a-912e-4a35-bd63-b16851817a87",
   "metadata": {},
   "outputs": [],
   "source": [
    "class CustomDataset(Dataset):\n",
    "    def __init__(self, data_dir, mode, aug, train_size=0.9):\n",
    "        self.data_dir = data_dir\n",
    "        self.mode = mode\n",
    "        self.aug = aug\n",
    "        self.trina_size = train_size\n",
    "        \n",
    "        \n",
    "        self.db = self.data_loader()\n",
    "        \n",
    "        if self.mode == 'train':\n",
    "            train_index = int(len(self.db) * train_size)\n",
    "            self.db = self.db[:train_index]\n",
    "        elif self.mode =='val':\n",
    "            train_index = int(len(self.db) * train_size)\n",
    "            self.db = self.db[train_index:]\n",
    "            self.db.reset_index(inplace=True)\n",
    "        else:\n",
    "            print(f'change mode! train or val')\n",
    "        \n",
    "        \n",
    "    def data_loader(self):\n",
    "        print('Loading ' + self.mode + ' dataset..')\n",
    "        # 경로 존재하지 않을 경우 error\n",
    "        if not os.path.isdir(self.data_dir):\n",
    "            print(f'!!! Cannot find {self.data_dir}... !!!')\n",
    "            sys.exit()\n",
    "            \n",
    "        db = pd.read_csv(os.path.join(self.data_dir, 'train.csv'))\n",
    "        \n",
    "        return db\n",
    "    \n",
    "    def __len__(self):\n",
    "        return len(self.db)\n",
    "    \n",
    "    def __getitem__(self, index):\n",
    "        data = copy.deepcopy(self.db.loc[index])\n",
    "        \n",
    "        # data_dir/train/001.png\n",
    "        img = cv2.imread(os.path.join(self.data_dir, 'train', data['file_name']))\n",
    "        img = cv2.cvtColor(img, cv2.COLOR_BGR2RGB)\n",
    "        \n",
    "        if not isinstance(img, np.ndarray):\n",
    "            raise IOError(\"Fail to read %s\" % data['file_name'])\n",
    "        \n",
    "\n",
    "        trans_image = self.aug(image=img)[\"image\"]\n",
    "        \n",
    "        # return img, label\n",
    "        return trans_image, data['COVID']\n",
    "        \n",
    "        "
   ]
  },
  {
   "cell_type": "markdown",
   "id": "0e2aaaa8-4c1d-42f7-8e15-3942779eda05",
   "metadata": {},
   "source": [
    "# Utils"
   ]
  },
  {
   "cell_type": "code",
   "execution_count": 5,
   "id": "ec111960-397f-4b37-9071-f31aae04162e",
   "metadata": {},
   "outputs": [],
   "source": [
    "class LossEarlyStopper():\n",
    "    \"\"\"Early stopper\n",
    "    \n",
    "    Attributes:\n",
    "        patience (int): loss가 줄어들지 않아도 학습할 epoch 수\n",
    "        patience_counter (int): loss 가 줄어들지 않을 때 마다 1씩 증가, 감소 시 0으로 리셋\n",
    "        min_loss (float): 최소 loss\n",
    "        stop (bool): True 일 때 학습 중단\n",
    "    \"\"\"\n",
    "\n",
    "    def __init__(self, patience: int)-> None:\n",
    "        self.patience = patience\n",
    "\n",
    "        self.patience_counter = 0\n",
    "        self.min_loss = np.Inf\n",
    "        self.stop = False\n",
    "        self.save_model = False\n",
    "\n",
    "    def check_early_stopping(self, loss: float)-> None:\n",
    "        \"\"\"Early stopping 여부 판단\"\"\"  \n",
    "\n",
    "        if self.min_loss == np.Inf:\n",
    "            self.min_loss = loss\n",
    "            return None\n",
    "\n",
    "        elif loss > self.min_loss:\n",
    "            self.patience_counter += 1\n",
    "            msg = f\"Early stopping counter {self.patience_counter}/{self.patience}\"\n",
    "\n",
    "            if self.patience_counter == self.patience:\n",
    "                self.stop = True\n",
    "                \n",
    "        elif loss <= self.min_loss:\n",
    "            self.patience_counter = 0\n",
    "            self.save_model = True\n",
    "            msg = f\"Validation loss decreased {self.min_loss} -> {loss}\"\n",
    "            self.min_loss = loss\n",
    "        \n",
    "        print(msg)\n",
    "    \n",
    "\n",
    "class Trainer():\n",
    "    def __init__(self, loss_fn, model, device, metric_fn, optimizer=None, scheduler=None):\n",
    "        self.loss_fn = loss_fn\n",
    "        self.model = model\n",
    "        self.device = device\n",
    "        self.metric_fn = metric_fn\n",
    "        self.optimizer = optimizer\n",
    "        self.scheduler = scheduler\n",
    "        \n",
    "    def train_epoch(self, dataloader, epoch_index):\n",
    "\n",
    "        # train mode\n",
    "        self.model.train()\n",
    "        \n",
    "        train_total_loss = 0\n",
    "        target_lst = []\n",
    "        pred_lst = []\n",
    "        prob_lst = []\n",
    "\n",
    "        for batch_index, (img, label) in enumerate(dataloader):\n",
    "            img = img.to(self.device)\n",
    "            label = label.to(self.device).float()\n",
    "            \n",
    "            # predict\n",
    "            pred = self.model(img)\n",
    "            \n",
    "            # loss\n",
    "            loss = loss_fn(pred[:, 1], label)\n",
    "\n",
    "            self.optimizer.zero_grad()\n",
    "            loss.backward()\n",
    "            self.optimizer.step()\n",
    "            self.scheduler.step()\n",
    "            \n",
    "            train_total_loss += loss.item()\n",
    "            \n",
    "            prob_lst.extend(pred[:, 1].cpu().tolist())\n",
    "            target_lst.extend(label.cpu().tolist())\n",
    "            pred_lst.extend(pred.argmax(dim=1).cpu().tolist())\n",
    "            \n",
    "        self.train_mean_loss = train_total_loss / batch_index\n",
    "        self.train_score, f1 = self.metric_fn(y_pred=pred_lst, y_answer=target_lst)\n",
    "        \n",
    "        # epoch msg\n",
    "        print(f'Epoch {epoch_index}, Train loss: {self.train_mean_loss:.4f}, Acc: {self.train_score:.4f}, F1-Macro: {f1:.4f}')\n",
    "        \n",
    "    def validate_epoch(self, dataloader, epoch_index):\n",
    "        self.model.eval()\n",
    "        val_total_loss = 0\n",
    "        target_lst = []\n",
    "        pred_lst = []\n",
    "        prob_lst = []\n",
    "    \n",
    "        \n",
    "        for batch_index, (img, label) in enumerate(dataloader):\n",
    "            img = img.to(self.device)\n",
    "            label = label.to(self.device).float()\n",
    "\n",
    "            pred = self.model(img)\n",
    "            \n",
    "            loss = self.loss_fn(pred[:, 1], label)\n",
    "            val_total_loss += loss.item()\n",
    "            \n",
    "            prob_lst.extend(pred[:, 1].cpu().tolist())\n",
    "            pred_lst.extend(pred.argmax(dim=1).cpu().tolist())\n",
    "            target_lst.extend(label.cpu().tolist())\n",
    "        \n",
    "        self.val_mean_loss = val_total_loss / batch_index\n",
    "        self.validation_score, f1 = self.metric_fn(y_pred=pred_lst, y_answer=target_lst)\n",
    "        print(f'Epoch {epoch_index}, Val loss: {self.val_mean_loss:.4f}, Acc: {self.validation_score:.4f}, F1-Macro: {f1:.4f}')        "
   ]
  },
  {
   "cell_type": "code",
   "execution_count": 6,
   "id": "d3980f4c-3830-44ea-b562-7e3a7f15b4c1",
   "metadata": {},
   "outputs": [],
   "source": [
    "from sklearn.metrics import accuracy_score, f1_score\n",
    "\n",
    "def get_metric_fn(y_pred, y_answer):\n",
    "    \"\"\" 성능을 반환하는 함수\"\"\"\n",
    "    \n",
    "    assert len(y_pred) == len(y_answer), 'The size of prediction and answer are not same.'\n",
    "    accuracy = accuracy_score(y_answer, y_pred)\n",
    "    f1 = f1_score(y_answer, y_pred, average='macro')\n",
    "    return accuracy, f1"
   ]
  },
  {
   "cell_type": "markdown",
   "id": "8b39f223-7239-4877-8c24-e1a17f01bf2c",
   "metadata": {},
   "source": [
    "# Model"
   ]
  },
  {
   "cell_type": "markdown",
   "id": "9ef7f0c5-a654-4496-8f54-1943677b0af9",
   "metadata": {},
   "source": [
    "### efficientnet"
   ]
  },
  {
   "cell_type": "code",
   "execution_count": 7,
   "id": "30700028-cfd0-44cb-90ee-b3e6a750cac5",
   "metadata": {
    "jupyter": {
     "source_hidden": true
    },
    "tags": []
   },
   "outputs": [],
   "source": [
    "from efficientnet_pytorch import EfficientNet\n",
    "\n",
    "class EfficientNetb0(nn.Module):\n",
    "    def __init__(self, num_classes):\n",
    "        super(EfficientNetb0, self).__init__()\n",
    "        self.model = EfficientNet.from_name('efficientnet-b0', num_classes=num_classes)\n",
    "        self.softmax = nn.Softmax(dim=1)\n",
    "        \n",
    "    def forward(self, x):\n",
    "        x = self.model(x)\n",
    "        output = self.softmax(x)\n",
    "        \n",
    "        return output\n"
   ]
  },
  {
   "cell_type": "markdown",
   "id": "679ab249-d2dc-4c1b-84c8-7938d2966be3",
   "metadata": {
    "tags": []
   },
   "source": [
    "### Resnet"
   ]
  },
  {
   "cell_type": "code",
   "execution_count": 14,
   "id": "b6c28b6e-2169-4404-945b-7a761f129978",
   "metadata": {
    "tags": []
   },
   "outputs": [],
   "source": [
    "class Resnet18(nn.Module):\n",
    "    def __init__(self, num_classes):\n",
    "        super(Resnet18, self).__init__()\n",
    "        self.model = models.resnet18(pretrained=False)\n",
    "        self.model.fc = nn.Linear(self.model.fc.in_features, num_classes)\n",
    "        self.softmax = nn.Softmax(dim=1)\n",
    "        \n",
    "    def forward(self, x):\n",
    "        x = self.model(x)\n",
    "        output = self.softmax(x)\n",
    "        \n",
    "        return output\n",
    "    \n",
    "class Resnet34_no_pretrained(nn.Module):\n",
    "    def __init__(self, num_classes):\n",
    "        super(Resnet34_no_pretrained, self).__init__()\n",
    "        self.model = models.resnet34(pretrained=False)\n",
    "        self.model.fc = nn.Linear(self.model.fc.in_features, num_classes)\n",
    "        self.softmax = nn.Softmax(dim=1)\n",
    "        \n",
    "    def forward(self, x):\n",
    "        x = self.model(x)\n",
    "        output = self.softmax(x)\n",
    "        \n",
    "        return output\n",
    "\n",
    "class Resnet50_no_pretrained(nn.Module):\n",
    "    def __init__(self, num_classes):\n",
    "        super(Resnet50_no_pretrained, self).__init__()\n",
    "        self.model = models.resnet50(pretrained=False)\n",
    "        self.model.fc = nn.Linear(self.model.fc.in_features, num_classes)\n",
    "        self.softmax = nn.Softmax(dim=1)\n",
    "        \n",
    "    def forward(self, x):\n",
    "        x = self.model(x)\n",
    "        output = self.softmax(x)\n",
    "        \n",
    "        return output"
   ]
  },
  {
   "cell_type": "markdown",
   "id": "eea0e63a-aaaf-4dad-9bcd-7c1ec4d24833",
   "metadata": {},
   "source": [
    "### VGG"
   ]
  },
  {
   "cell_type": "code",
   "execution_count": 9,
   "id": "68e0fd8a-361f-45d4-9050-0c0c22b76276",
   "metadata": {
    "tags": []
   },
   "outputs": [],
   "source": [
    "class VGG11_bn(nn.Module):\n",
    "    def __init__(self, num_classes):\n",
    "        super(VGG11_bn, self).__init__()\n",
    "        self.model = models.vgg11_bn(pretrained=False)\n",
    "        self.model.classifier[6] = nn.Linear(self.model.classifier[6].in_features, num_classes)\n",
    "        self.softmax = nn.Softmax(dim=1)\n",
    "        \n",
    "    def forward(self, x):\n",
    "        x = self.model(x)\n",
    "        output = self.softmax(x)\n",
    "        \n",
    "        return output\n",
    "\n",
    "class VGG13_bn(nn.Module):\n",
    "    def __init__(self, num_classes):\n",
    "        super(VGG13_bn, self).__init__()\n",
    "        self.model = models.vgg13_bn(pretrained=False)\n",
    "        self.model.classifier[6] = nn.Linear(self.model.classifier[6].in_features, num_classes)\n",
    "        self.softmax = nn.Softmax(dim=1)\n",
    "        \n",
    "    def forward(self, x):\n",
    "        x = self.model(x)\n",
    "        output = self.softmax(x)\n",
    "        \n",
    "        return output\n",
    "    \n",
    "    \n",
    "class VGG16_bn(nn.Module):\n",
    "    def __init__(self, num_classes):\n",
    "        super(VGG16_bn, self).__init__()\n",
    "        self.model = models.vgg16_bn(pretrained=False)\n",
    "        self.model.classifier[6] = nn.Linear(self.model.classifier[6].in_features, num_classes)\n",
    "        self.softmax = nn.Softmax(dim=1)\n",
    "        \n",
    "    def forward(self, x):\n",
    "        x = self.model(x)\n",
    "        output = self.softmax(x)\n",
    "        \n",
    "        return output"
   ]
  },
  {
   "cell_type": "markdown",
   "id": "4899231e-b7ed-475f-a34e-da49e16a0fdf",
   "metadata": {},
   "source": [
    "# GoogleNet"
   ]
  },
  {
   "cell_type": "code",
   "execution_count": 10,
   "id": "fb992a40-9ee3-4730-bf11-2f749d232eb6",
   "metadata": {},
   "outputs": [],
   "source": [
    "class Googlenet(nn.Module):\n",
    "    def __init__(self, num_classes):\n",
    "        super(Googlenet, self).__init__()\n",
    "        self.model = models.googlenet(pretrained=False)\n",
    "        self.model.fc = nn.Linear(self.model.fc.in_features, num_classes)\n",
    "        self.softmax = nn.Softmax(dim=1)\n",
    "        \n",
    "    def forward(self, x):\n",
    "        x = self.model(x)\n",
    "        if isinstance(x, torch.Tensor):\n",
    "            output = self.softmax(x)\n",
    "        else:\n",
    "            output = self.softmax(x.logits)\n",
    "        \n",
    "        return output"
   ]
  },
  {
   "cell_type": "code",
   "execution_count": null,
   "id": "63c2d32c-7b34-4cb2-81ac-701a75677281",
   "metadata": {},
   "outputs": [],
   "source": []
  },
  {
   "cell_type": "code",
   "execution_count": null,
   "id": "a5fa7fbb-512e-460e-9340-6c8de04f40f3",
   "metadata": {},
   "outputs": [],
   "source": []
  },
  {
   "cell_type": "code",
   "execution_count": 11,
   "id": "48237eb5-745b-4f8e-9168-97afdeba922e",
   "metadata": {},
   "outputs": [],
   "source": [
    "# model = Resnet18_no_pretrained(2).to(DEVICE)"
   ]
  },
  {
   "cell_type": "code",
   "execution_count": 12,
   "id": "94c3b121-cb08-4c22-bbd9-235fecca0d3b",
   "metadata": {},
   "outputs": [
    {
     "name": "stderr",
     "output_type": "stream",
     "text": [
      "/opt/conda/lib/python3.8/site-packages/torchvision/models/googlenet.py:71: FutureWarning: The default weight initialization of GoogleNet will be changed in future releases of torchvision. If you wish to keep the old behavior (which leads to long initialization times due to scipy/scipy#11299), please set init_weights=True.\n",
      "  warnings.warn('The default weight initialization of GoogleNet will be changed in future releases of '\n"
     ]
    },
    {
     "name": "stdout",
     "output_type": "stream",
     "text": [
      "tensor([[0.4620, 0.5380]], device='cuda:0', grad_fn=<SoftmaxBackward>)\n"
     ]
    }
   ],
   "source": [
    "model = Googlenet(2).to(DEVICE)\n",
    "a = torch.rand((1, 3, 128, 128))\n",
    "output = model(a.to(DEVICE))\n",
    "print(output)"
   ]
  },
  {
   "cell_type": "markdown",
   "id": "f27eb17a-fe9f-46d3-98bf-e59fe5548785",
   "metadata": {},
   "source": [
    "# select model"
   ]
  },
  {
   "cell_type": "code",
   "execution_count": 15,
   "id": "d5042ea7-7580-482f-8e0e-6533ebc463d9",
   "metadata": {},
   "outputs": [],
   "source": [
    "model = Resnet18(2).to(DEVICE)"
   ]
  },
  {
   "cell_type": "markdown",
   "id": "953c8cfb-70ad-4c78-b510-22a0e3454d46",
   "metadata": {},
   "source": [
    "# augmentation"
   ]
  },
  {
   "cell_type": "code",
   "execution_count": 18,
   "id": "d710b956-f736-48cb-9f3a-4c07ad25a610",
   "metadata": {
    "jupyter": {
     "source_hidden": true
    },
    "tags": []
   },
   "outputs": [],
   "source": [
    "# class CustomDataset2(Dataset):\n",
    "#     def __init__(self, data_dir, mode, input_shape):\n",
    "#         self.data_dir = data_dir\n",
    "#         self.mode = mode\n",
    "#         self.input_shape = input_shape\n",
    "        \n",
    "#         # Loading dataset\n",
    "#         self.db = self.data_loader()\n",
    "        \n",
    "#         # Dataset split\n",
    "#         if self.mode == 'train':\n",
    "#             self.db = self.db[:int(len(self.db) * 0.9)]\n",
    "#         elif self.mode == 'val':\n",
    "#             self.db = self.db[int(len(self.db) * 0.9):]\n",
    "#             self.db.reset_index(inplace=True)\n",
    "#         else:\n",
    "#             print(f'!!! Invalid split {self.mode}... !!!')\n",
    "            \n",
    "#         # Transform function\n",
    "#         self.transform = transforms.Compose([transforms.Resize(self.input_shape),\n",
    "#                                              transforms.ToTensor()])\n",
    "\n",
    "#     def data_loader(self):\n",
    "#         print('Loading ' + self.mode + ' dataset..')\n",
    "#         if not os.path.isdir(self.data_dir):\n",
    "#             print(f'!!! Cannot find {self.data_dir}... !!!')\n",
    "#             sys.exit()\n",
    "        \n",
    "#         # (COVID : 1, No : 0)\n",
    "#         db = pd.read_csv(os.path.join(self.data_dir, 'train.csv'))\n",
    "        \n",
    "#         return db\n",
    "\n",
    "#     def __len__(self):\n",
    "#         return len(self.db)\n",
    "\n",
    "#     def __getitem__(self, index):\n",
    "#         data = copy.deepcopy(self.db.loc[index])\n",
    "\n",
    "#         # Loading image\n",
    "#         cvimg = cv2.imread(os.path.join(self.data_dir,'train',data['file_name']), cv2.IMREAD_COLOR | cv2.IMREAD_IGNORE_ORIENTATION)\n",
    "#         if not isinstance(cvimg, np.ndarray):\n",
    "#             raise IOError(\"Fail to read %s\" % data['file_name'])\n",
    "\n",
    "#         # Preprocessing images\n",
    "#         trans_image = self.transform(Image.fromarray(cvimg))\n",
    "\n",
    "#         return trans_image, data['COVID']\n",
    "\n",
    "\n",
    "# INPUT_SHAPE=338\n",
    "# train_dataset = CustomDataset2(data_dir=DATA_DIR, mode='train', input_shape=INPUT_SHAPE)\n",
    "# train_dataset = DataLoader(train_dataset, shuffle=True)\n",
    "\n",
    "# def get_mean_std(dataset):\n",
    "#     img = [np.asarray(image) for image, _ in train_dataset]\n",
    "#     img = np.array(img)\n",
    "    \n",
    "#     meanR = np.mean(img[:, :, 2, :, :])\n",
    "#     meanG = np.mean(img[:, :, 1, :, :])\n",
    "#     meanB = np.mean(img[:, :, 0, :, :])\n",
    "    \n",
    "#     stdR = np.std(img[:, :, 2, :, :])\n",
    "#     stdG = np.std(img[:, :, 1, :, :])\n",
    "#     stdB = np.std(img[:, :, 0, :, :])\n",
    "    \n",
    "#     return (meanR, meanG, meanR), (stdB, stdG, stdR)\n",
    "\n",
    "# get_mean_std(train_dataset)"
   ]
  },
  {
   "cell_type": "code",
   "execution_count": 17,
   "id": "58976670-1bae-4c8e-8b85-b8c79125f391",
   "metadata": {
    "tags": []
   },
   "outputs": [],
   "source": [
    "INPUT_SHAPE = 256\n",
    "BATCH_SIZE = 24\n",
    "\n",
    "mean = (0.59760803, 0.59713995, 0.59760803)\n",
    "std = (0.32656872, 0.32661003, 0.32659915)\n",
    "\n",
    "original = A.Compose([\n",
    "            A.Resize(INPUT_SHAPE, INPUT_SHAPE),\n",
    "            A.Normalize(mean=mean, std=std),\n",
    "            ToTensorV2()\n",
    "        ])\n",
    "\n",
    "\n",
    "aug1 = A.Compose([\n",
    "            A.Resize(INPUT_SHAPE, INPUT_SHAPE),\n",
    "            A.Normalize(mean=mean, std=std),\n",
    "            A.VerticalFlip(p=0.5),\n",
    "            A.HorizontalFlip(p=0.5),\n",
    "            A.Rotate(limit=30, p=1),\n",
    "            ToTensorV2()\n",
    "        ])\n",
    "\n",
    "\n",
    "aug2 = A.Compose([\n",
    "            A.Resize(INPUT_SHAPE, INPUT_SHAPE),\n",
    "            A.Normalize(mean=mean, std=std),\n",
    "            A.\n",
    "\n",
    "            ToTensorV2()\n",
    "        ])\n",
    "\n",
    "\n",
    "aug_transform = A.Compose([\n",
    "            A.Resize(INPUT_SHAPE, INPUT_SHAPE),\n",
    "            A.Normalize(mean=mean, std=std),\n",
    "            A.GridDistortion(num_steps=5, p=0.5),\n",
    "            A.Rotate(limit=30, p=0.5),\n",
    "            A.VerticalFlip(p=0.5),\n",
    "            A.HorizontalFlip(p=0.5),\n",
    "            A.RandomCrop(int(INPUT_SHAPE*0.9), int(INPUT_SHAPE*0.9), p=0.5),\n",
    "            A.Resize(INPUT_SHAPE, INPUT_SHAPE),\n",
    "            ToTensorV2()\n",
    "])"
   ]
  },
  {
   "cell_type": "code",
   "execution_count": 23,
   "id": "378ed265-ea15-4f84-bb2f-fc4bead2326e",
   "metadata": {},
   "outputs": [
    {
     "name": "stdout",
     "output_type": "stream",
     "text": [
      "Loading train dataset..\n",
      "Loading train dataset..\n",
      "Loading train dataset..\n",
      "Loading val dataset..\n",
      "Loading val dataset..\n",
      "Loading val dataset..\n",
      "train : 1162, valid : 130\n"
     ]
    }
   ],
   "source": [
    "original_train = CustomDataset(data_dir=DATA_DIR, aug=aug_transform,  mode='train')\n",
    "original_train1 = CustomDataset(data_dir=DATA_DIR, aug=aug1,  mode='train')\n",
    "original_train2 = CustomDataset(data_dir=DATA_DIR, aug=aug2,  mode='train')\n",
    "\n",
    "original_valid = CustomDataset(data_dir=DATA_DIR, aug=aug_transform,  mode='val')\n",
    "original_valid1 = CustomDataset(data_dir=DATA_DIR, aug=aug1,  mode='val')\n",
    "original_valid2 = CustomDataset(data_dir=DATA_DIR, aug=aug2,  mode='val')\n",
    "\n",
    "\n",
    "train_dataset = torch.utils.data.ConcatDataset([original_train, original_train1])\n",
    "valid_dataset = torch.utils.data.ConcatDataset([original_valid, original_valid1])\n",
    "\n",
    "print(f'train : {len(train_dataset)}, valid : {len(valid_dataset)}')\n",
    "\n",
    "# print(len(train_dataset), len(valid_dataset))\n",
    "train_dataloader = DataLoader(train_dataset, batch_size=BATCH_SIZE, shuffle=True)\n",
    "valid_dataloader = DataLoader(valid_dataset, batch_size=BATCH_SIZE, shuffle=False)"
   ]
  },
  {
   "cell_type": "markdown",
   "id": "9921d69c-4efe-47b1-a2cc-f244619e00d8",
   "metadata": {},
   "source": [
    "## 이미지 확인"
   ]
  },
  {
   "cell_type": "code",
   "execution_count": 24,
   "id": "b4531c10-9b8d-4505-8711-928d5a0ac8a7",
   "metadata": {},
   "outputs": [
    {
     "name": "stderr",
     "output_type": "stream",
     "text": [
      "Clipping input data to the valid range for imshow with RGB data ([0..1] for floats or [0..255] for integers).\n"
     ]
    },
    {
     "name": "stdout",
     "output_type": "stream",
     "text": [
      "img scale min: -1.8299610614776611 max: 1.2334591150283813\n"
     ]
    },
    {
     "data": {
      "image/png": "[encoded data removed]",
      "text/plain": [
       "<Figure size 432x288 with 1 Axes>"
      ]
     },
     "metadata": {
      "needs_background": "light"
     },
     "output_type": "display_data"
    },
    {
     "name": "stderr",
     "output_type": "stream",
     "text": [
      "Clipping input data to the valid range for imshow with RGB data ([0..1] for floats or [0..255] for integers).\n"
     ]
    },
    {
     "name": "stdout",
     "output_type": "stream",
     "text": [
      "img scale min: -0.41498053073883057 max: 1.116729497909546\n"
     ]
    },
    {
     "data": {
      "image/png": "[encoded data removed]",
      "text/plain": [
       "<Figure size 432x288 with 1 Axes>"
      ]
     },
     "metadata": {
      "needs_background": "light"
     },
     "output_type": "display_data"
    }
   ],
   "source": [
    "import matplotlib.pyplot as plt\n",
    "import torchvision\n",
    "\n",
    "\n",
    "def imshow_check(img):\n",
    "    print(f'img scale min: {img.min()} max: {img.max()}')\n",
    "    npimg = img.numpy()\n",
    "    plt.imshow(np.transpose(npimg, (1, 2, 0)))\n",
    "    plt.show()\n",
    "\n",
    "    plt.close()\n",
    "\n",
    "    img = img / 2 + 0.5     # unnormalize \n",
    "    print(f'img scale min: {img.min()} max: {img.max()}')\n",
    "    npimg = img.numpy()\n",
    "    plt.imshow(np.transpose(npimg, (1, 2, 0)))\n",
    "    plt.show()\n",
    "    \n",
    "\n",
    "# get some random training images\n",
    "dataiter = iter(train_dataloader)\n",
    "images, labels = dataiter.next()\n",
    "\n",
    "# show images\n",
    "imshow_check(torchvision.utils.make_grid(images))"
   ]
  },
  {
   "cell_type": "markdown",
   "id": "c6d42e5c-d417-4c1d-a7e6-82a57bdc5bd5",
   "metadata": {},
   "source": [
    "# Train"
   ]
  },
  {
   "cell_type": "code",
   "execution_count": 26,
   "id": "b7a2a94e-4c00-43d5-8d5d-dfebe4d522d9",
   "metadata": {},
   "outputs": [],
   "source": [
    "EPOCHS = 30\n",
    "LEARNING_RATE = 0.0003\n",
    "EARLY_STOPPING_PATIENCE = 10\n",
    "\n",
    "# Load Model\n",
    "# model = custom_CNN(NUM_CLS).to(DEVICE)\n",
    "# model = Resnet34_no_pretrained(2).to(DEVICE)\n",
    "\n",
    "# # Save Initial Model\n",
    "# torch.save(model.state_dict(), 'initial.pt')\n",
    "\n",
    "# Set optimizer, scheduler, loss function, metric function\n",
    "optimizer = optim.Adam(model.parameters(), lr=LEARNING_RATE)\n",
    "scheduler =  optim.lr_scheduler.OneCycleLR(optimizer=optimizer, pct_start=0.1, div_factor=1e5, max_lr=0.0001, epochs=EPOCHS, steps_per_epoch=len(train_dataloader))\n",
    "loss_fn = nn.BCELoss()\n",
    "metric_fn = get_metric_fn\n",
    "\n",
    "\n",
    "# Set trainer\n",
    "trainer = Trainer(loss_fn, model, DEVICE, metric_fn, optimizer, scheduler)\n",
    "\n",
    "# Set earlystopper\n",
    "early_stopper = LossEarlyStopper(patience=EARLY_STOPPING_PATIENCE)"
   ]
  },
  {
   "cell_type": "code",
   "execution_count": 27,
   "id": "afa2f705-a2fb-414f-a1ed-18015360228e",
   "metadata": {},
   "outputs": [
    {
     "name": "stderr",
     "output_type": "stream",
     "text": [
      "Failed to detect the name of this notebook, you can set it manually with the WANDB_NOTEBOOK_NAME environment variable to enable code saving.\n",
      "\u001b[34m\u001b[1mwandb\u001b[0m: Currently logged in as: \u001b[33mcodongmin\u001b[0m (use `wandb login --relogin` to force relogin)\n"
     ]
    },
    {
     "data": {
      "text/html": [
       "\n",
       "                    Syncing run <strong><a href=\"https://wandb.ai/codongmin/CT%20task/runs/3dx01zyp\" target=\"_blank\">resnet18_x2</a></strong> to <a href=\"https://wandb.ai/codongmin/CT%20task\" target=\"_blank\">Weights & Biases</a> (<a href=\"https://docs.wandb.com/integrations/jupyter.html\" target=\"_blank\">docs</a>).<br/>\n",
       "\n",
       "                "
      ],
      "text/plain": [
       "<IPython.core.display.HTML object>"
      ]
     },
     "metadata": {},
     "output_type": "display_data"
    },
    {
     "data": {
      "text/html": [
       "<button onClick=\"this.nextSibling.style.display='block';this.style.display='none';\">Display W&B run</button><iframe src=\"https://wandb.ai/codongmin/CT%20task/runs/3dx01zyp?jupyter=true\" style=\"border:none;width:100%;height:420px;display:none;\"></iframe>"
      ],
      "text/plain": [
       "<wandb.sdk.wandb_run.Run at 0x7fc261238490>"
      ]
     },
     "execution_count": 27,
     "metadata": {},
     "output_type": "execute_result"
    }
   ],
   "source": [
    "name = 'resnet18_x3'\n",
    "\n",
    "config = {\n",
    "        'epochs': EPOCHS, \n",
    "        'learning rate': LEARNING_RATE, \n",
    "        'batch_size': BATCH_SIZE,\n",
    "        'INPUT_SHAPE':INPUT_SHAPE,\n",
    "        'EARLY_STOPPING_PATIENCE':EARLY_STOPPING_PATIENCE,\n",
    "        'augmentation': ['normalize', 'distortion', 'crop', 'rotate', 'flip'],\n",
    "        'train data size':len(train_dataset),\n",
    "        'valid data size':len(valid_dataset)\n",
    "}\n",
    "\n",
    "\n",
    "\n",
    "wandb.init(\n",
    "    config=config,\n",
    "    project='CT task',\n",
    "    tags=['resnet'],\n",
    "    group='model search',\n",
    "    name= name,\n",
    "    notes='normalize',\n",
    "    save_code=True,\n",
    ")"
   ]
  },
  {
   "cell_type": "code",
   "execution_count": 28,
   "id": "7072e80f-0b30-4cf2-99ee-53b50b9c24d9",
   "metadata": {},
   "outputs": [
    {
     "name": "stderr",
     "output_type": "stream",
     "text": [
      "  0% 0/30 [00:00<?, ?it/s]"
     ]
    },
    {
     "name": "stdout",
     "output_type": "stream",
     "text": [
      "Epoch 0, Train loss: 0.6911, Acc: 0.5637, F1-Macro: 0.4726\n"
     ]
    },
    {
     "name": "stderr",
     "output_type": "stream",
     "text": [
      "  3% 1/30 [00:15<07:35, 15.70s/it]"
     ]
    },
    {
     "name": "stdout",
     "output_type": "stream",
     "text": [
      "Epoch 0, Val loss: 0.9929, Acc: 0.5308, F1-Macro: 0.4372\n",
      "Epoch 1, Train loss: 0.6029, Acc: 0.6558, F1-Macro: 0.6527\n",
      "Epoch 1, Val loss: 0.8129, Acc: 0.5846, F1-Macro: 0.5578\n",
      "Validation loss decreased 0.9928571462631226 -> 0.8128615617752075\n"
     ]
    },
    {
     "name": "stderr",
     "output_type": "stream",
     "text": [
      "  7% 2/30 [00:31<07:20, 15.74s/it]"
     ]
    },
    {
     "name": "stdout",
     "output_type": "stream",
     "text": [
      "Epoch 2, Train loss: 0.5777, Acc: 0.7065, F1-Macro: 0.7019\n",
      "Epoch 2, Val loss: 0.7770, Acc: 0.6077, F1-Macro: 0.5595\n",
      "Validation loss decreased 0.8128615617752075 -> 0.777005672454834\n"
     ]
    },
    {
     "name": "stderr",
     "output_type": "stream",
     "text": [
      " 10% 3/30 [00:47<07:09, 15.92s/it]"
     ]
    },
    {
     "name": "stdout",
     "output_type": "stream",
     "text": [
      "Epoch 3, Train loss: 0.5430, Acc: 0.7332, F1-Macro: 0.7319\n",
      "Epoch 3, Val loss: 0.7812, Acc: 0.6615, F1-Macro: 0.6563\n",
      "Early stopping counter 1/10\n"
     ]
    },
    {
     "name": "stderr",
     "output_type": "stream",
     "text": [
      " 13% 4/30 [01:03<06:53, 15.89s/it]"
     ]
    },
    {
     "name": "stdout",
     "output_type": "stream",
     "text": [
      "Epoch 4, Train loss: 0.5186, Acc: 0.7453, F1-Macro: 0.7431\n",
      "Epoch 4, Val loss: 0.7857, Acc: 0.7000, F1-Macro: 0.6986\n",
      "Early stopping counter 2/10\n"
     ]
    },
    {
     "name": "stderr",
     "output_type": "stream",
     "text": [
      " 17% 5/30 [01:19<06:38, 15.92s/it]"
     ]
    },
    {
     "name": "stdout",
     "output_type": "stream",
     "text": [
      "Epoch 5, Train loss: 0.4849, Acc: 0.7788, F1-Macro: 0.7769\n",
      "Epoch 5, Val loss: 0.6868, Acc: 0.6846, F1-Macro: 0.6762\n",
      "Validation loss decreased 0.777005672454834 -> 0.6868381321430206\n"
     ]
    },
    {
     "name": "stderr",
     "output_type": "stream",
     "text": [
      " 20% 6/30 [01:35<06:20, 15.84s/it]"
     ]
    },
    {
     "name": "stdout",
     "output_type": "stream",
     "text": [
      "Epoch 6, Train loss: 0.4918, Acc: 0.7659, F1-Macro: 0.7646\n",
      "Epoch 6, Val loss: 0.6892, Acc: 0.7154, F1-Macro: 0.7133\n",
      "Early stopping counter 1/10\n"
     ]
    },
    {
     "name": "stderr",
     "output_type": "stream",
     "text": [
      " 23% 7/30 [01:51<06:05, 15.87s/it]"
     ]
    },
    {
     "name": "stdout",
     "output_type": "stream",
     "text": [
      "Epoch 7, Train loss: 0.4433, Acc: 0.7917, F1-Macro: 0.7904\n",
      "Epoch 7, Val loss: 0.7089, Acc: 0.7846, F1-Macro: 0.7770\n",
      "Early stopping counter 2/10\n"
     ]
    },
    {
     "name": "stderr",
     "output_type": "stream",
     "text": [
      " 27% 8/30 [02:06<05:47, 15.82s/it]"
     ]
    },
    {
     "name": "stdout",
     "output_type": "stream",
     "text": [
      "Epoch 8, Train loss: 0.4337, Acc: 0.7978, F1-Macro: 0.7965\n",
      "Epoch 8, Val loss: 1.0156, Acc: 0.6308, F1-Macro: 0.5877\n",
      "Early stopping counter 3/10\n"
     ]
    },
    {
     "name": "stderr",
     "output_type": "stream",
     "text": [
      " 30% 9/30 [02:22<05:30, 15.75s/it]"
     ]
    },
    {
     "name": "stdout",
     "output_type": "stream",
     "text": [
      "Epoch 9, Train loss: 0.4426, Acc: 0.8081, F1-Macro: 0.8070\n",
      "Epoch 9, Val loss: 0.6788, Acc: 0.6538, F1-Macro: 0.6538\n",
      "Validation loss decreased 0.6868381321430206 -> 0.6787552416324616\n"
     ]
    },
    {
     "name": "stderr",
     "output_type": "stream",
     "text": [
      " 33% 10/30 [02:38<05:14, 15.74s/it]"
     ]
    },
    {
     "name": "stdout",
     "output_type": "stream",
     "text": [
      "Epoch 10, Train loss: 0.3853, Acc: 0.8236, F1-Macro: 0.8228\n",
      "Epoch 10, Val loss: 0.7521, Acc: 0.7308, F1-Macro: 0.7249\n",
      "Early stopping counter 1/10\n"
     ]
    },
    {
     "name": "stderr",
     "output_type": "stream",
     "text": [
      " 37% 11/30 [02:54<04:59, 15.78s/it]"
     ]
    },
    {
     "name": "stdout",
     "output_type": "stream",
     "text": [
      "Epoch 11, Train loss: 0.3986, Acc: 0.8330, F1-Macro: 0.8322\n",
      "Epoch 11, Val loss: 0.8277, Acc: 0.6692, F1-Macro: 0.6683\n",
      "Early stopping counter 2/10\n"
     ]
    },
    {
     "name": "stderr",
     "output_type": "stream",
     "text": [
      " 40% 12/30 [03:09<04:44, 15.80s/it]"
     ]
    },
    {
     "name": "stdout",
     "output_type": "stream",
     "text": [
      "Epoch 12, Train loss: 0.3568, Acc: 0.8503, F1-Macro: 0.8496\n",
      "Epoch 12, Val loss: 0.7366, Acc: 0.7615, F1-Macro: 0.7583\n",
      "Early stopping counter 3/10\n"
     ]
    },
    {
     "name": "stderr",
     "output_type": "stream",
     "text": [
      " 43% 13/30 [03:26<04:31, 15.97s/it]"
     ]
    },
    {
     "name": "stdout",
     "output_type": "stream",
     "text": [
      "Epoch 13, Train loss: 0.3335, Acc: 0.8675, F1-Macro: 0.8668\n",
      "Epoch 13, Val loss: 0.7086, Acc: 0.6846, F1-Macro: 0.6831\n",
      "Early stopping counter 4/10\n"
     ]
    },
    {
     "name": "stderr",
     "output_type": "stream",
     "text": [
      " 47% 14/30 [03:42<04:15, 15.94s/it]"
     ]
    },
    {
     "name": "stdout",
     "output_type": "stream",
     "text": [
      "Epoch 14, Train loss: 0.3192, Acc: 0.8666, F1-Macro: 0.8658\n",
      "Epoch 14, Val loss: 0.6523, Acc: 0.7462, F1-Macro: 0.7460\n",
      "Validation loss decreased 0.6787552416324616 -> 0.6522966027259827\n"
     ]
    },
    {
     "name": "stderr",
     "output_type": "stream",
     "text": [
      " 50% 15/30 [03:57<03:58, 15.88s/it]"
     ]
    },
    {
     "name": "stdout",
     "output_type": "stream",
     "text": [
      "Epoch 15, Train loss: 0.3120, Acc: 0.8606, F1-Macro: 0.8602\n",
      "Epoch 15, Val loss: 0.8395, Acc: 0.6385, F1-Macro: 0.6288\n",
      "Early stopping counter 1/10\n"
     ]
    },
    {
     "name": "stderr",
     "output_type": "stream",
     "text": [
      " 53% 16/30 [04:13<03:42, 15.91s/it]"
     ]
    },
    {
     "name": "stdout",
     "output_type": "stream",
     "text": [
      "Epoch 16, Train loss: 0.3089, Acc: 0.8649, F1-Macro: 0.8644\n",
      "Epoch 16, Val loss: 0.8157, Acc: 0.7154, F1-Macro: 0.7133\n",
      "Early stopping counter 2/10\n"
     ]
    },
    {
     "name": "stderr",
     "output_type": "stream",
     "text": [
      " 57% 17/30 [04:30<03:29, 16.10s/it]"
     ]
    },
    {
     "name": "stdout",
     "output_type": "stream",
     "text": [
      "Epoch 17, Train loss: 0.2920, Acc: 0.8812, F1-Macro: 0.8807\n",
      "Epoch 17, Val loss: 0.6680, Acc: 0.7231, F1-Macro: 0.7198\n",
      "Early stopping counter 3/10\n"
     ]
    },
    {
     "name": "stderr",
     "output_type": "stream",
     "text": [
      " 60% 18/30 [04:46<03:13, 16.12s/it]"
     ]
    },
    {
     "name": "stdout",
     "output_type": "stream",
     "text": [
      "Epoch 18, Train loss: 0.2638, Acc: 0.8959, F1-Macro: 0.8954\n",
      "Epoch 18, Val loss: 0.6748, Acc: 0.7385, F1-Macro: 0.7321\n",
      "Early stopping counter 4/10\n"
     ]
    },
    {
     "name": "stderr",
     "output_type": "stream",
     "text": [
      " 63% 19/30 [05:02<02:56, 16.05s/it]"
     ]
    },
    {
     "name": "stdout",
     "output_type": "stream",
     "text": [
      "Epoch 19, Train loss: 0.2526, Acc: 0.9053, F1-Macro: 0.9050\n",
      "Epoch 19, Val loss: 0.6280, Acc: 0.7615, F1-Macro: 0.7612\n",
      "Validation loss decreased 0.6522966027259827 -> 0.6279792487621307\n"
     ]
    },
    {
     "name": "stderr",
     "output_type": "stream",
     "text": [
      " 67% 20/30 [05:18<02:40, 16.10s/it]"
     ]
    },
    {
     "name": "stdout",
     "output_type": "stream",
     "text": [
      "Epoch 20, Train loss: 0.2269, Acc: 0.8950, F1-Macro: 0.8943\n",
      "Epoch 20, Val loss: 0.7505, Acc: 0.7308, F1-Macro: 0.7304\n",
      "Early stopping counter 1/10\n"
     ]
    },
    {
     "name": "stderr",
     "output_type": "stream",
     "text": [
      " 70% 21/30 [05:34<02:24, 16.04s/it]"
     ]
    },
    {
     "name": "stdout",
     "output_type": "stream",
     "text": [
      "Epoch 21, Train loss: 0.2383, Acc: 0.9045, F1-Macro: 0.9041\n",
      "Epoch 21, Val loss: 0.7106, Acc: 0.7000, F1-Macro: 0.6986\n",
      "Early stopping counter 2/10\n"
     ]
    },
    {
     "name": "stderr",
     "output_type": "stream",
     "text": [
      " 73% 22/30 [05:50<02:08, 16.01s/it]"
     ]
    },
    {
     "name": "stdout",
     "output_type": "stream",
     "text": [
      "Epoch 22, Train loss: 0.2101, Acc: 0.9071, F1-Macro: 0.9067\n",
      "Epoch 22, Val loss: 0.6653, Acc: 0.7077, F1-Macro: 0.7071\n",
      "Early stopping counter 3/10\n"
     ]
    },
    {
     "name": "stderr",
     "output_type": "stream",
     "text": [
      " 77% 23/30 [06:06<01:51, 16.00s/it]"
     ]
    },
    {
     "name": "stdout",
     "output_type": "stream",
     "text": [
      "Epoch 23, Train loss: 0.2147, Acc: 0.9139, F1-Macro: 0.9136\n",
      "Epoch 23, Val loss: 0.7201, Acc: 0.7077, F1-Macro: 0.7043\n",
      "Early stopping counter 4/10\n"
     ]
    },
    {
     "name": "stderr",
     "output_type": "stream",
     "text": [
      " 80% 24/30 [06:22<01:35, 15.97s/it]"
     ]
    },
    {
     "name": "stdout",
     "output_type": "stream",
     "text": [
      "Epoch 24, Train loss: 0.2010, Acc: 0.9208, F1-Macro: 0.9205\n",
      "Epoch 24, Val loss: 0.7708, Acc: 0.7077, F1-Macro: 0.7060\n",
      "Early stopping counter 5/10\n"
     ]
    },
    {
     "name": "stderr",
     "output_type": "stream",
     "text": [
      " 83% 25/30 [06:38<01:19, 15.85s/it]"
     ]
    },
    {
     "name": "stdout",
     "output_type": "stream",
     "text": [
      "Epoch 25, Train loss: 0.1935, Acc: 0.9208, F1-Macro: 0.9205\n",
      "Epoch 25, Val loss: 0.6931, Acc: 0.7000, F1-Macro: 0.6998\n",
      "Early stopping counter 6/10\n"
     ]
    },
    {
     "name": "stderr",
     "output_type": "stream",
     "text": [
      " 87% 26/30 [06:53<01:03, 15.85s/it]"
     ]
    },
    {
     "name": "stdout",
     "output_type": "stream",
     "text": [
      "Epoch 26, Train loss: 0.1770, Acc: 0.9225, F1-Macro: 0.9222\n",
      "Epoch 26, Val loss: 0.7726, Acc: 0.7308, F1-Macro: 0.7280\n",
      "Early stopping counter 7/10\n"
     ]
    },
    {
     "name": "stderr",
     "output_type": "stream",
     "text": [
      " 90% 27/30 [07:09<00:47, 15.79s/it]"
     ]
    },
    {
     "name": "stdout",
     "output_type": "stream",
     "text": [
      "Epoch 27, Train loss: 0.1790, Acc: 0.9260, F1-Macro: 0.9256\n",
      "Epoch 27, Val loss: 0.6813, Acc: 0.7692, F1-Macro: 0.7679\n",
      "Early stopping counter 8/10\n"
     ]
    },
    {
     "name": "stderr",
     "output_type": "stream",
     "text": [
      " 93% 28/30 [07:25<00:31, 15.86s/it]"
     ]
    },
    {
     "name": "stdout",
     "output_type": "stream",
     "text": [
      "Epoch 28, Train loss: 0.1712, Acc: 0.9277, F1-Macro: 0.9274\n",
      "Epoch 28, Val loss: 0.6140, Acc: 0.7538, F1-Macro: 0.7529\n",
      "Validation loss decreased 0.6279792487621307 -> 0.6140343725681305\n"
     ]
    },
    {
     "name": "stderr",
     "output_type": "stream",
     "text": [
      " 97% 29/30 [07:41<00:15, 15.79s/it]"
     ]
    },
    {
     "name": "stdout",
     "output_type": "stream",
     "text": [
      "Epoch 29, Train loss: 0.1871, Acc: 0.9157, F1-Macro: 0.9153\n",
      "Epoch 29, Val loss: 0.7372, Acc: 0.7231, F1-Macro: 0.7220\n",
      "Early stopping counter 1/10\n"
     ]
    },
    {
     "name": "stderr",
     "output_type": "stream",
     "text": [
      "100% 30/30 [07:57<00:00, 15.91s/it]\n"
     ]
    }
   ],
   "source": [
    "for epoch_index in tqdm(range(EPOCHS)):\n",
    "    \n",
    "    trainer.train_epoch(train_dataloader, epoch_index)\n",
    "    trainer.validate_epoch(valid_dataloader, epoch_index)\n",
    "    wandb.log({\n",
    "        'train loss' : trainer.train_mean_loss,\n",
    "        'train acc score' : trainer.train_score,\n",
    "        'valid loss' : trainer.val_mean_loss,\n",
    "        'valid acc score' : trainer.validation_score\n",
    "    })\n",
    "    # early_stopping check\n",
    "    early_stopper.check_early_stopping(loss=trainer.val_mean_loss)\n",
    "\n",
    "    if early_stopper.stop:\n",
    "        print('Early stopped')\n",
    "        break\n",
    "\n",
    "    if early_stopper.save_model:\n",
    "        check_point = {\n",
    "            'model': model.state_dict(),\n",
    "            'optimizer': optimizer.state_dict(),\n",
    "            'scheduler': scheduler.state_dict()\n",
    "        }\n",
    "        torch.save(check_point, 'best/'+name+'best.pt')\n"
   ]
  },
  {
   "cell_type": "markdown",
   "id": "ec865665-5e5d-4464-bde2-171a393df788",
   "metadata": {},
   "source": [
    "# Inference"
   ]
  },
  {
   "cell_type": "code",
   "execution_count": 29,
   "id": "b83a6199-1e33-4fc2-97ac-27ed768adcd4",
   "metadata": {},
   "outputs": [],
   "source": [
    "TRAINED_MODEL_PATH = 'best/'+name+'best.pt'"
   ]
  },
  {
   "cell_type": "code",
   "execution_count": 30,
   "id": "45ee480a-8d33-40ec-bdee-5cd8fd795b92",
   "metadata": {},
   "outputs": [],
   "source": [
    "class TestDataset(Dataset):\n",
    "    def __init__(self, data_dir, input_shape):\n",
    "        self.data_dir = data_dir\n",
    "        self.input_shape = input_shape\n",
    "        \n",
    "        # Loading dataset\n",
    "        self.db = self.data_loader()\n",
    "        \n",
    "        \n",
    "        mean = [0.59760803, 0.59713995, 0.59760803]\n",
    "        std = [0.32656872, 0.32661003, 0.32659915]\n",
    "        # Transform function\n",
    "        self.transform = transforms.Compose([transforms.Resize(self.input_shape),\n",
    "                                             transforms.ToTensor(),\n",
    "                                             transforms.Normalize(mean, std)])\n",
    "\n",
    "    def data_loader(self):\n",
    "        print('Loading test dataset..')\n",
    "        if not os.path.isdir(self.data_dir):\n",
    "            print(f'!!! Cannot find {self.data_dir}... !!!')\n",
    "            sys.exit()\n",
    "        \n",
    "        db = pd.read_csv(os.path.join(self.data_dir, 'sample_submission.csv'))\n",
    "        return db\n",
    "    \n",
    "    def __len__(self):\n",
    "        return len(self.db)\n",
    "    \n",
    "    def __getitem__(self, index):\n",
    "        data = copy.deepcopy(self.db.loc[index])\n",
    "        \n",
    "        # Loading image\n",
    "        cvimg = cv2.imread(os.path.join(self.data_dir,'test',data['file_name']), cv2.IMREAD_COLOR | cv2.IMREAD_IGNORE_ORIENTATION)\n",
    "        if not isinstance(cvimg, np.ndarray):\n",
    "            raise IOError(\"Fail to read %s\" % data['file_name'])\n",
    "\n",
    "        # Preprocessing images\n",
    "        trans_image = self.transform(Image.fromarray(cvimg))\n",
    "\n",
    "        return trans_image, data['file_name']"
   ]
  },
  {
   "cell_type": "code",
   "execution_count": 31,
   "id": "c1f559af-8a80-4aea-bc40-6aa177c269c3",
   "metadata": {},
   "outputs": [
    {
     "name": "stdout",
     "output_type": "stream",
     "text": [
      "Loading test dataset..\n"
     ]
    }
   ],
   "source": [
    "# Load dataset & dataloader\n",
    "test_dataset = TestDataset(data_dir=DATA_DIR, input_shape=INPUT_SHAPE)\n",
    "test_dataloader = DataLoader(dataset=test_dataset, batch_size=BATCH_SIZE, shuffle=False)"
   ]
  },
  {
   "cell_type": "code",
   "execution_count": 32,
   "id": "3b15bb84-52fe-41cf-82c7-8c7d974af1e1",
   "metadata": {},
   "outputs": [
    {
     "name": "stderr",
     "output_type": "stream",
     "text": [
      "5it [00:07,  1.44s/it]\n"
     ]
    }
   ],
   "source": [
    "# model.load_state_dict(torch.load(TRAINED_MODEL_PATH)['model'])\n",
    "\n",
    "# Prediction\n",
    "file_lst = []\n",
    "pred_lst = []\n",
    "prob_lst = []\n",
    "model.eval()\n",
    "with torch.no_grad():\n",
    "    for batch_index, (img, file_num) in tqdm(enumerate(test_dataloader)):\n",
    "        img = img.to(DEVICE)\n",
    "        pred = model(img)\n",
    "        \n",
    "        file_lst.extend(list(file_num))\n",
    "        pred_lst.extend(pred.argmax(dim=1).tolist())\n",
    "        prob_lst.extend(pred[:, 1].tolist())"
   ]
  },
  {
   "cell_type": "code",
   "execution_count": 33,
   "id": "e802579e-aea7-4b40-a6de-01fcf445cf1f",
   "metadata": {},
   "outputs": [],
   "source": [
    "df = pd.DataFrame({'file_name':file_lst, 'COVID':pred_lst})\n",
    "# df.sort_values(by=['file_name'], inplace=True)\n",
    "df.to_csv('result/prediction_' + name+'.csv', index=False)"
   ]
  },
  {
   "cell_type": "code",
   "execution_count": null,
   "id": "77d8f985-37f1-467b-bd0a-bd9363856d4a",
   "metadata": {},
   "outputs": [],
   "source": []
  },
  {
   "cell_type": "code",
   "execution_count": null,
   "id": "8aa21f14-55c9-4551-91a8-52e63b8b3e7f",
   "metadata": {},
   "outputs": [],
   "source": []
  }
 ],
 "metadata": {
  "kernelspec": {
   "display_name": "Python 3 (ipykernel)",
   "language": "python",
   "name": "python3"
  },
  "language_info": {
   "codemirror_mode": {
    "name": "ipython",
    "version": 3
   },
   "file_extension": ".py",
   "mimetype": "text/x-python",
   "name": "python",
   "nbconvert_exporter": "python",
   "pygments_lexer": "ipython3",
   "version": "3.8.5"
  }
 },
 "nbformat": 4,
 "nbformat_minor": 5
}
